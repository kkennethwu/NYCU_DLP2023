{
 "cells": [
  {
   "cell_type": "code",
   "execution_count": 1,
   "metadata": {},
   "outputs": [],
   "source": [
    "from dataloader import read_bci_data\n",
    "from EEGNet import EEGNet\n",
    "import torch\n",
    "from torch.utils.data import DataLoader, TensorDataset, Dataset\n",
    "from torchmetrics.classification import BinaryAccuracy\n",
    "device = torch.device(\"cuda\" if torch.cuda.is_available() else \"cpu\")"
   ]
  },
  {
   "cell_type": "code",
   "execution_count": 2,
   "metadata": {},
   "outputs": [
    {
     "name": "stdout",
     "output_type": "stream",
     "text": [
      "(1080, 1, 2, 750)\n",
      "(1080,)\n",
      "(1080, 1, 2, 750)\n",
      "(1080,)\n",
      "[1. 1. 0. ... 0. 1. 1.]\n"
     ]
    }
   ],
   "source": [
    "train_data, train_label, test_data, test_label = read_bci_data()\n",
    "print(train_data.shape)\n",
    "print(train_label.shape)\n",
    "print(test_data.shape)\n",
    "print(test_label.shape)\n",
    "\n",
    "print(train_label)"
   ]
  },
  {
   "cell_type": "code",
   "execution_count": 3,
   "metadata": {},
   "outputs": [],
   "source": [
    "train_data = torch.tensor(train_data, dtype=torch.float).to(device)\n",
    "train_label = torch.tensor(train_label, dtype=torch.float).to(device)\n",
    "test_data = torch.tensor(test_data, dtype=torch.float).to(device)\n",
    "test_label = torch.tensor(test_label, dtype=torch.float).to(device)\n"
   ]
  },
  {
   "cell_type": "code",
   "execution_count": 4,
   "metadata": {},
   "outputs": [],
   "source": [
    "loader = DataLoader(TensorDataset(train_data, train_label), batch_size=64)"
   ]
  },
  {
   "cell_type": "code",
   "execution_count": 6,
   "metadata": {},
   "outputs": [
    {
     "name": "stdout",
     "output_type": "stream",
     "text": [
      "tensor([[0.0121, 0.0000],\n",
      "        [0.1109, 0.0000],\n",
      "        [0.0000, 0.0000],\n",
      "        [0.0000, 0.0000],\n",
      "        [0.0000, 0.0000],\n",
      "        [1.0325, 0.0956],\n",
      "        [0.0000, 0.4866],\n",
      "        [0.0000, 0.1502],\n",
      "        [0.2958, 0.0000],\n",
      "        [0.0000, 0.4524],\n",
      "        [0.0000, 0.0905],\n",
      "        [0.0574, 0.5551],\n",
      "        [0.0000, 0.0037],\n",
      "        [0.0000, 0.0000],\n",
      "        [0.0000, 0.0000],\n",
      "        [0.0000, 0.4568],\n",
      "        [0.6091, 0.0000],\n",
      "        [0.1448, 0.0000],\n",
      "        [0.0000, 0.3509],\n",
      "        [0.7571, 0.7783],\n",
      "        [0.3782, 0.0656],\n",
      "        [0.0438, 0.0000],\n",
      "        [0.0000, 0.0000],\n",
      "        [0.0000, 0.0000],\n",
      "        [0.0000, 0.0000],\n",
      "        [0.0000, 0.1998],\n",
      "        [0.0000, 0.1248],\n",
      "        [0.0000, 0.0000],\n",
      "        [0.0000, 0.2970],\n",
      "        [0.0000, 0.0281],\n",
      "        [0.0578, 0.0000],\n",
      "        [0.0000, 0.0000],\n",
      "        [0.0000, 0.0000],\n",
      "        [0.0204, 0.1329],\n",
      "        [0.0000, 0.0000],\n",
      "        [0.0000, 0.1347],\n",
      "        [0.0000, 0.6777],\n",
      "        [0.0643, 0.0000],\n",
      "        [0.0000, 0.2597],\n",
      "        [0.0000, 0.1234],\n",
      "        [0.2649, 0.0000],\n",
      "        [0.3153, 0.2530],\n",
      "        [0.4238, 0.0000],\n",
      "        [0.0000, 0.1100],\n",
      "        [0.0000, 0.0129],\n",
      "        [0.1758, 0.0000],\n",
      "        [1.4431, 0.4602],\n",
      "        [0.0000, 0.5249],\n",
      "        [0.0595, 0.0517],\n",
      "        [0.0000, 0.0000],\n",
      "        [0.0000, 0.0000],\n",
      "        [0.3119, 0.0000],\n",
      "        [0.0000, 0.2823],\n",
      "        [0.0000, 0.1022],\n",
      "        [0.0000, 0.0000],\n",
      "        [0.0000, 0.0000],\n",
      "        [0.0000, 0.2352],\n",
      "        [0.1280, 0.0000],\n",
      "        [0.0000, 0.0000],\n",
      "        [0.2023, 0.1280],\n",
      "        [0.2293, 0.0000],\n",
      "        [0.0747, 0.1213],\n",
      "        [0.0000, 0.2662],\n",
      "        [0.0306, 0.0000]], device='cuda:0', grad_fn=<ReluBackward0>)\n"
     ]
    },
    {
     "ename": "RuntimeError",
     "evalue": "The size of tensor a (2) must match the size of tensor b (64) at non-singleton dimension 1",
     "output_type": "error",
     "traceback": [
      "\u001b[0;31m---------------------------------------------------------------------------\u001b[0m",
      "\u001b[0;31mRuntimeError\u001b[0m                              Traceback (most recent call last)",
      "Cell \u001b[0;32mIn[6], line 13\u001b[0m\n\u001b[1;32m     11\u001b[0m y_pred \u001b[39m=\u001b[39m eggnet(x_batch)\n\u001b[1;32m     12\u001b[0m y_pred_binary \u001b[39m=\u001b[39m (y_pred \u001b[39m>\u001b[39m\u001b[39m=\u001b[39m \u001b[39m0.5\u001b[39m)\u001b[39m.\u001b[39msqueeze()\u001b[39m.\u001b[39mint()\n\u001b[0;32m---> 13\u001b[0m correct \u001b[39m+\u001b[39m\u001b[39m=\u001b[39m (y_pred_binary \u001b[39m==\u001b[39;49m y_batch)\u001b[39m.\u001b[39msum()\u001b[39m.\u001b[39mitem()\n\u001b[1;32m     14\u001b[0m \u001b[39m# print(Y_pred.shape)\u001b[39;00m\n\u001b[1;32m     15\u001b[0m loss \u001b[39m=\u001b[39m torch\u001b[39m.\u001b[39mnn\u001b[39m.\u001b[39mCrossEntropyLoss(y_pred, y_batch)\n",
      "\u001b[0;31mRuntimeError\u001b[0m: The size of tensor a (2) must match the size of tensor b (64) at non-singleton dimension 1"
     ]
    }
   ],
   "source": [
    "learning_rate = 1e-2\n",
    "epochs = 300\n",
    "\n",
    "eggnet = EGGNet()\n",
    "eggnet = eggnet.to(device=device)\n",
    "optimizer = torch.optim.Adam(eggnet.parameters(), lr=learning_rate)\n",
    "\n",
    "for epoch in range(1, epochs):\n",
    "    correct = 0\n",
    "    for x_batch, y_batch in loader:\n",
    "        y_pred = eggnet(x_batch)\n",
    "        y_pred_binary = (y_pred >= 0.5).squeeze().int()\n",
    "        correct += (y_pred_binary == y_batch).sum().item()\n",
    "        # print(Y_pred.shape)\n",
    "        loss = torch.nn.CrossEntropyLoss(y_pred, y_batch)\n",
    "        # loss = torch.nn.functional.mse_loss(y_pred, y_batch)\n",
    "        # print(loss.item())\n",
    "        loss.backward()\n",
    "        \n",
    "        optimizer.step()\n",
    "        optimizer.zero_grad()\n",
    "    print(\"accuracy: \", correct / 1080)\n",
    "    # if epoch % 100 == 0:\n",
    "    #     Y_pred_binary = (Y_pred >= 0.5).squeeze().int()\n",
    "    #     correct = (Y_pred_binary == Y_train).sum().item()\n",
    "    #     total_example = Y_train.size(0)\n",
    "    #     print(\"loss: \", loss.item())\n",
    "    #     print(\"accuracy: \", correct / total_example)\n",
    "    \n",
    "    \n"
   ]
  },
  {
   "cell_type": "code",
   "execution_count": null,
   "metadata": {},
   "outputs": [],
   "source": []
  }
 ],
 "metadata": {
  "kernelspec": {
   "display_name": "base",
   "language": "python",
   "name": "python3"
  },
  "language_info": {
   "codemirror_mode": {
    "name": "ipython",
    "version": 3
   },
   "file_extension": ".py",
   "mimetype": "text/x-python",
   "name": "python",
   "nbconvert_exporter": "python",
   "pygments_lexer": "ipython3",
   "version": "3.8.17"
  },
  "orig_nbformat": 4
 },
 "nbformat": 4,
 "nbformat_minor": 2
}
