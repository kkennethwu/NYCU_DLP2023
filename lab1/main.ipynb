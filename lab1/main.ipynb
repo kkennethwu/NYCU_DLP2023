{
 "cells": [
  {
   "cell_type": "code",
   "execution_count": 127,
   "metadata": {},
   "outputs": [],
   "source": [
    "import numpy as np\n",
    "import matplotlib.pyplot as plt"
   ]
  },
  {
   "cell_type": "code",
   "execution_count": 128,
   "metadata": {},
   "outputs": [],
   "source": [
    "def gernerate_linear(n=100):\n",
    "    pts = np.random.uniform(0, 1, (n, 2))\n",
    "    inputs = []\n",
    "    labels = []\n",
    "    for pt in pts:\n",
    "        inputs.append([pt[0], pt[1]])\n",
    "        distance = (pt[0] - pt[1])/1.414\n",
    "        if pt[0] > pt[1]:\n",
    "            labels.append(0)\n",
    "        else:\n",
    "            labels.append(1)\n",
    "    return np.array(inputs), np.array(labels).reshape(n, 1)\n",
    "\n",
    "def generate_XOR_easy():\n",
    "    inputs = []\n",
    "    labels = []\n",
    "    for i in range(11):\n",
    "        inputs.append([0.1 * i, 0.1 * i])\n",
    "        labels.append(0)\n",
    "        if 0.1 * i == 0.5:\n",
    "            continue\n",
    "        inputs.append([0.1*i, 1-0.1*i])\n",
    "        labels.append(1)\n",
    "    return np.array(inputs), np.array(labels).reshape(21, 1)\n"
   ]
  },
  {
   "cell_type": "code",
   "execution_count": 129,
   "metadata": {},
   "outputs": [],
   "source": [
    "class Model:\n",
    "    def __init__(self):\n",
    "        self.input_size = 2\n",
    "        self.hidden1_size = 5\n",
    "        self.hidden2_size = 5\n",
    "        self.output_size = 1\n",
    "        \n",
    "        self.weights1 = np.random.rand(self.input_size, self.hidden1_size)\n",
    "        self.weights2 = np.random.rand(self.hidden1_size, self.hidden2_size)\n",
    "        self.weights3 = np.random.rand(self.hidden2_size, self.output_size)\n",
    "        \n",
    "        self.bias1 = 0.001\n",
    "        self.bias2 = 0.001\n",
    "        self.bias3 = 0.001\n",
    "        \n",
    "        # momentum optimizer\n",
    "        self.beta = 0.9\n",
    "        self.m_w1 = 0 # momemtum vector for weight\n",
    "        self.m_b1 = 0 # momemtum vector for bias\n",
    "        self.m_w2 = 0 \n",
    "        self.m_b2 = 0\n",
    "        self.m_w3 = 0 \n",
    "        self.m_b3 = 0\n",
    "        \n",
    "        self.hidden1_output = ()\n",
    "        self.hidden2_output = ()\n",
    "        self.y = ()\n",
    "        \n",
    "        self.learning_rate = 0.0001\n",
    "        \n",
    "        # 照理來說要用for loop把x一個個送進來，但可以直接用矩陣乘法加速\n",
    "\n",
    "    def sigmoid(self, x):\n",
    "        return 1/(1 + np.exp(-x))\n",
    "    \n",
    "    def sigmoid_derivatives(self, x):\n",
    "        return x * (1-x)\n",
    "\n",
    "    def ReLU(self, x):\n",
    "        return np.maximum(0, x)\n",
    "    \n",
    "    def ReLU_derivatives(self, x):\n",
    "        return 1 * (x > 0)\n",
    "\n",
    "    def forward(self, x):\n",
    "        self.hidden1_output = self.sigmoid(np.dot(x, self.weights1) + self.bias1)\n",
    "        self.hidden2_output = self.sigmoid(np.dot(self.hidden1_output, self.weights2) + self.bias2)\n",
    "        self.y = self.sigmoid(np.dot(self.hidden2_output, self.weights3) + self.bias3)\n",
    "        \n",
    "        return np.where(self.y > 0.5, 1, 0)\n",
    "    \n",
    "    def back_propagation(self, x, y_gt):\n",
    "        ##### back propagation\n",
    "        y_error = (self.y - y_gt) # derivatives of loss function: (1/2)*sum((y - y_gt)**2)\n",
    "        \n",
    "        tmp = np.dot(y_error, self.sigmoid_derivatives(self.y))\n",
    "        \n",
    "        self.weights3 -= self.learning_rate * np.dot(self.hidden2_output.T, tmp)\n",
    "        \n",
    "        \n",
    "        hidden2_error = np.dot(tmp, self.weights3.T)\n",
    "        tmp = np.dot(hidden2_error, self.sigmoid_derivatives(self.hidden2_output))\n",
    "        self.weights2 -= self.learning_rate * np.dot(self.hidden1_output.T, hidden2_error)\n",
    "        \n",
    "        hidden1_error = np.dot(hidden2_error, self.weights2.T)\n",
    "        tmp = np.dot(hidden1_error, self.sigmoid_derivatives(self.hidden1_output))\n",
    "        self.weights1 -= self.learning_rate * np.dot(x.T, hidden1_error)\n",
    "        \n",
    "        return (1/2) * np.sum((self.y - y_gt)**2) # loss function\n",
    "    \n",
    "    def forward2(self, x):\n",
    "        self.hidden1_output = self.ReLU(np.dot(x, self.weights1) + self.bias1)\n",
    "        # print(self.hidden1_output.shape)\n",
    "        self.hidden2_output = self.sigmoid(np.dot(self.hidden1_output, self.weights2) + self.bias2)\n",
    "        # print(self.hidden2_output.shape)\n",
    "        self.y = self.sigmoid(np.dot(self.hidden2_output, self.weights3) + self.bias3)\n",
    "        # print(self.y.shape)\n",
    "        return np.where(self.y > 0.5, 1, 0)\n",
    "    \n",
    "    def back_propagation2(self, x, y_gt):\n",
    "        ##### back propagation\n",
    "        y_error = (self.y - y_gt)\n",
    "        \n",
    "        tmp = y_error * self.sigmoid_derivatives(self.y)\n",
    "        self.weights3 -= self.learning_rate * np.dot(self.hidden2_output.T, tmp) \n",
    "        self.bias3 -= self.learning_rate * 1 * tmp\n",
    "        \n",
    "        hidden2_error = np.dot(tmp, self.weights3.T)\n",
    "        tmp = hidden2_error * self.sigmoid_derivatives(self.hidden2_output)\n",
    "        self.weights2 -= self.learning_rate * np.dot(self.hidden1_output.T, hidden2_error)\n",
    "        self.bias2 -= self.learning_rate * 1 * tmp\n",
    "        \n",
    "        hidden1_error = np.dot(hidden2_error, self.weights2.T)\n",
    "        tmp = hidden1_error * self.ReLU_derivatives(self.hidden1_output)\n",
    "        self.weights1 -= self.learning_rate * np.dot(x.T, tmp)\n",
    "        self.bias1 -= self.learning_rate * 1 * tmp\n",
    "        \n",
    "        return (1/2) * np.sum((self.y - y_gt)**2)\n",
    "    \n",
    "    def momentumOptimizer(self, gradient_w, gradient_b, beta=0.9):\n",
    "        self.m_w = beta * self.m_w - self.learning_rate * gradient_w\n",
    "        self\n",
    "        \n",
    "\n",
    "        \n",
    "    \n",
    "    def back_propagation_momentum(self, x, y_gt):\n",
    "        ##### back propagation\n",
    "        y_error = (self.y - y_gt)\n",
    "        tmp = y_error * self.sigmoid_derivatives(self.y)\n",
    "        self.m_w3 = self.beta * self.m_w3 - self.learning_rate * np.dot(self.hidden2_output.T, tmp)\n",
    "        self.m_b3 = self.beta * self.m_b3 - self.learning_rate * tmp\n",
    "        self.weights3 += self.m_w3\n",
    "        self.bias3 += self.m_b3\n",
    "        \n",
    "        hidden2_error = np.dot(tmp, self.weights3.T)\n",
    "        tmp = hidden2_error * self.sigmoid_derivatives(self.hidden2_output)\n",
    "        self.m_w2 = self.beta * self.m_w2 - self.learning_rate * np.dot(self.hidden1_output.T, tmp)\n",
    "        self.m_b2 = self.beta * self.m_b2 - self.learning_rate * tmp\n",
    "        self.weights2 += self.m_w2\n",
    "        self.bias2 += self.m_b2\n",
    "        \n",
    "        hidden1_error = np.dot(hidden2_error, self.weights2.T)\n",
    "        tmp = hidden1_error * self.ReLU_derivatives(self.hidden1_output)\n",
    "        self.m_w1 = self.beta * self.m_w1 - self.learning_rate * np.dot(x.T, tmp)\n",
    "        self.m_b1 = self.beta * self.m_b1 - self.learning_rate * tmp\n",
    "        self.weights1 += self.m_w1\n",
    "        self.bias1 += self.m_b1\n",
    "        \n",
    "        return (1/2) * np.sum((self.y - y_gt)**2)\n"
   ]
  },
  {
   "cell_type": "code",
   "execution_count": 130,
   "metadata": {},
   "outputs": [
    {
     "data": {
      "image/png": "[encoded data removed]",
      "text/plain": [
       "<Figure size 640x480 with 1 Axes>"
      ]
     },
     "metadata": {},
     "output_type": "display_data"
    }
   ],
   "source": [
    "# figure, axis = plt.subplots(2)\n",
    "x, y = gernerate_linear(n=100)\n",
    "for i in [0, 1]:\n",
    "    plt.scatter(x=x[np.where(y[:, 0] == i), 0], y=x[np.where(y[:, 0] == i), 1])\n",
    "plt.show()"
   ]
  },
  {
   "cell_type": "code",
   "execution_count": 131,
   "metadata": {},
   "outputs": [
    {
     "name": "stdout",
     "output_type": "stream",
     "text": [
      "epoch: 0 | 20000\n",
      "accuracy:  0.53\n",
      "loss:  18.990785504977836\n",
      "epoch: 10000 | 20000\n",
      "accuracy:  0.57\n",
      "loss:  10.633738493494183\n",
      "accuracy:  0.98\n"
     ]
    }
   ],
   "source": [
    "epochs = 20000   \n",
    "model = Model()\n",
    "\n",
    "for epoch in range(epochs):\n",
    "    y_test = model.forward2(x)\n",
    "    loss = model.back_propagation2(x, y)\n",
    "    if(epoch % 10000 == 0):\n",
    "        print(f\"epoch: {epoch} | {epochs}\")\n",
    "        print(\"accuracy: \", sum(1 for i, j in zip(y, y_test) if i == j) / len(y))\n",
    "        print(\"loss: \", loss)\n",
    "\n",
    "y_pred = model.forward2(x)\n",
    "print(\"accuracy: \", sum(1 for i, j in zip(y, y_pred) if i == j) / len(y))"
   ]
  },
  {
   "cell_type": "code",
   "execution_count": 132,
   "metadata": {},
   "outputs": [
    {
     "data": {
      "image/png": "[encoded data removed]",
      "text/plain": [
       "<Figure size 640x480 with 1 Axes>"
      ]
     },
     "metadata": {},
     "output_type": "display_data"
    }
   ],
   "source": [
    "x, y = generate_XOR_easy()\n",
    "for i in [0, 1]:\n",
    "    plt.scatter(x=x[np.where(y[:, 0] == i), 0], y=x[np.where(y[:, 0] == i), 1])\n",
    "plt.show()"
   ]
  },
  {
   "cell_type": "code",
   "execution_count": 133,
   "metadata": {},
   "outputs": [
    {
     "name": "stdout",
     "output_type": "stream",
     "text": [
      "epoch: 0 | 100000\n",
      "accuracy:  0.47619047619047616\n",
      "loss:  4.264012866959229\n",
      "epoch: 10000 | 100000\n",
      "accuracy:  1.0\n",
      "loss:  0.4065914547044743\n",
      "epoch: 20000 | 100000\n",
      "accuracy:  1.0\n",
      "loss:  0.0597803443363614\n",
      "epoch: 30000 | 100000\n",
      "accuracy:  1.0\n",
      "loss:  0.027073770048199438\n",
      "epoch: 40000 | 100000\n",
      "accuracy:  1.0\n",
      "loss:  0.016589591453735328\n",
      "epoch: 50000 | 100000\n",
      "accuracy:  1.0\n",
      "loss:  0.011598993218079005\n",
      "epoch: 60000 | 100000\n",
      "accuracy:  1.0\n",
      "loss:  0.008789072778940291\n",
      "epoch: 70000 | 100000\n",
      "accuracy:  1.0\n",
      "loss:  0.007029792914777761\n",
      "epoch: 80000 | 100000\n",
      "accuracy:  1.0\n",
      "loss:  0.005827820646557351\n",
      "epoch: 90000 | 100000\n",
      "accuracy:  1.0\n",
      "loss:  0.004962339275779589\n",
      "accuracy:  1.0\n"
     ]
    }
   ],
   "source": [
    "epochs = 100000   \n",
    "model = Model()\n",
    "model.learning_rate = 0.0001\n",
    "\n",
    "for epoch in range(epochs):\n",
    "    y_test = model.forward2(x)\n",
    "    loss = model.back_propagation_momentum(x, y)\n",
    "    if(epoch % 10000 == 0):\n",
    "        print(f\"epoch: {epoch} | {epochs}\")\n",
    "        print(\"accuracy: \", sum(1 for i, j in zip(y, y_test) if i == j) / len(y))\n",
    "        print(\"loss: \", loss)\n",
    "\n",
    "y_pred = model.forward2(x)\n",
    "print(\"accuracy: \", sum(1 for i, j in zip(y, y_pred) if i == j) / len(y))"
   ]
  },
  {
   "cell_type": "code",
   "execution_count": null,
   "metadata": {},
   "outputs": [],
   "source": []
  }
 ],
 "metadata": {
  "kernelspec": {
   "display_name": "Python 3",
   "language": "python",
   "name": "python3"
  },
  "language_info": {
   "codemirror_mode": {
    "name": "ipython",
    "version": 3
   },
   "file_extension": ".py",
   "mimetype": "text/x-python",
   "name": "python",
   "nbconvert_exporter": "python",
   "pygments_lexer": "ipython3",
   "version": "3.9.13"
  },
  "orig_nbformat": 4
 },
 "nbformat": 4,
 "nbformat_minor": 2
}
